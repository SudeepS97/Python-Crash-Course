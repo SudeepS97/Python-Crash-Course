{
 "cells": [
  {
   "cell_type": "markdown",
   "metadata": {},
   "source": [
    "# How Programming Works"
   ]
  },
  {
   "cell_type": "markdown",
   "metadata": {},
   "source": [
    "How does coding work? Coding languages are built to allow people to write statements that can be translated into binary for a computer to read. Whenever you write a line of code, create a variable, etc; the language 'converts' everything you wrote into a string of 1's and 0's for the computer to understand. Instead of focusing on all the details of how coding works, let's just focus on how we can write code for the computer to interpret. The language we are learning today is Python. Python is a very popular programming language that can be used to write scripts, make websites, create video games, and analyze data. But in order to do any of these things, we need to learn the basic building blocks of Python. In this lesson we are going to go through the very basic syntax - or 'grammar' - of the Python language."
   ]
  },
  {
   "cell_type": "code",
   "execution_count": 110,
   "metadata": {},
   "outputs": [
    {
     "name": "stdout",
     "output_type": "stream",
     "text": [
      "<class 'int'>\n",
      "<class 'float'>\n",
      "<class 'str'>\n",
      "<class 'bool'>\n"
     ]
    }
   ],
   "source": [
    "#Variable Types\n",
    "_integer = 1\n",
    "_float = 1.0\n",
    "_string = \"Welcome to MISA!\"\n",
    "_boolean = True\n",
    "\n",
    "print(type(_integer))\n",
    "print(type(_float))\n",
    "print(type(_string))\n",
    "print(type(_boolean))"
   ]
  },
  {
   "cell_type": "code",
   "execution_count": 111,
   "metadata": {},
   "outputs": [
    {
     "name": "stdout",
     "output_type": "stream",
     "text": [
      "<class 'list'>\n",
      "<class 'tuple'>\n",
      "<class 'dict'>\n"
     ]
    }
   ],
   "source": [
    "#Object Types\n",
    "_list = [1,'a',\"Welcome to MISA\"]\n",
    "_tuple = (1,'a',\"Welcome to MISA\") #immutable (meaning it can't be changed) list\n",
    "_dictionary = {'_integer': 1, '_char': 'a', '_string': \"Welcome to MISA\"}\n",
    "\n",
    "print(type(_list))\n",
    "print(type(_tuple))\n",
    "print(type(_dictionary))"
   ]
  },
  {
   "cell_type": "code",
   "execution_count": 112,
   "metadata": {},
   "outputs": [
    {
     "name": "stdout",
     "output_type": "stream",
     "text": [
      "#1 4\n",
      "#2 MISA\n",
      "#3 3.9\n",
      "#4 10\n",
      "#5 2.5\n",
      "#6 25\n",
      "#7 2\n",
      "#8 1\n",
      "#9 0.5\n"
     ]
    }
   ],
   "source": [
    "#Arithmetic Operators\n",
    "\n",
    "'''\n",
    "+ : addition\n",
    "- : subtraction\n",
    "* : multiplication\n",
    "/ : division\n",
    "** : exponent\n",
    "// : integer division\n",
    "% : modulus ( or remainder of integer division )\n",
    "'''\n",
    "\n",
    "#examples\n",
    "\n",
    "print(\"#1\",1+3)\n",
    "print(\"#2\",'M' + 'I' + 'S' + 'A')\n",
    "\n",
    "print(\"#3\",5-1.1)\n",
    "\n",
    "print(\"#4\",5*2)\n",
    "\n",
    "print(\"#5\",5/2)\n",
    "\n",
    "print(\"#6\",5**2)\n",
    "\n",
    "print(\"#7\",5//2) #integer division takes the integer result of divison (5/2=2.5, int(2.5) = 2)\n",
    "\n",
    "print(\"#8\",5%2) #modulus takes the remainder of integer division, since the integer division of 5//2 is 2 remainder 1, 5%2=1\n",
    "print(\"#9\",5.5%2.5)"
   ]
  },
  {
   "cell_type": "code",
   "execution_count": 113,
   "metadata": {},
   "outputs": [
    {
     "name": "stdout",
     "output_type": "stream",
     "text": [
      "#1 True\n",
      "#2 False\n",
      "#3 True\n",
      "#4 False\n",
      "#5 False\n",
      "#6 True\n",
      "#7 False\n",
      "#8 True\n",
      "#9 True\n",
      "#10 False\n",
      "#11 True\n"
     ]
    }
   ],
   "source": [
    "#Comparison Operators - conditionals always return either TRUE or FALSE\n",
    "'''\n",
    "> : greater than\n",
    "< : less than\n",
    "== : equal to\n",
    ">= : greater than or equal to\n",
    "<= : less than or equal to\n",
    "!= : not equal to\n",
    "not : not this\n",
    "and : this and that\n",
    "or :  this or that\n",
    "'''\n",
    "\n",
    "#examples\n",
    "\n",
    "print(\"#1\", 5>4)\n",
    "\n",
    "print(\"#2\", 5<4)\n",
    "\n",
    "print(\"#3\", 5 == 5)\n",
    "print(\"#4\", 5 == '5')\n",
    "print(\"#5\", 'A' == 'a')\n",
    "\n",
    "print(\"#6\", 5 >= 5)\n",
    "\n",
    "print(\"#7\", 3 <=1)\n",
    "\n",
    "print(\"#8\", 4!=9)\n",
    "\n",
    "print(\"#9\", not 1==2)\n",
    "\n",
    "print(\"#10\", 1==1 and 1==2) # and: if any are false, all are false\n",
    "\n",
    "print(\"#11\", 1==1 or 1==2) # or: if any are true, all are true"
   ]
  },
  {
   "cell_type": "markdown",
   "metadata": {},
   "source": [
    "# Creating Variables To Store Information"
   ]
  },
  {
   "cell_type": "code",
   "execution_count": 114,
   "metadata": {},
   "outputs": [
    {
     "name": "stdout",
     "output_type": "stream",
     "text": [
      "15\n",
      "21\n",
      "15\n",
      "21\n",
      "21\n"
     ]
    }
   ],
   "source": [
    "#Variable are useful because the can store information without having to redo computation\n",
    "#for example, let's say that you want to get the sum of a list of numbers...\n",
    "#If this list of numbers is never going to be updated, then you could just add all of them up and print them out, like so\n",
    "\n",
    "print(1+2+3+4+5)\n",
    "\n",
    "#but what if you wanted to add another number? Then you would have to do the computation all over again\n",
    "\n",
    "print(1+2+3+4+5+6)\n",
    "\n",
    "#instead, you could have saved the original sum as a variable and then combined it with the new number\n",
    "\n",
    "_sum = 1+2+3+4+5\n",
    "print(_sum)\n",
    "\n",
    "print(_sum+6)\n",
    "\n",
    "#or...\n",
    "\n",
    "new_sum = _sum + 6\n",
    "print(new_sum)"
   ]
  },
  {
   "cell_type": "markdown",
   "metadata": {},
   "source": [
    "# Efficient Coding: Using Loops"
   ]
  },
  {
   "cell_type": "code",
   "execution_count": 115,
   "metadata": {},
   "outputs": [
    {
     "name": "stdout",
     "output_type": "stream",
     "text": [
      "0\n",
      "1\n",
      "2\n",
      "3\n",
      "4\n",
      "\n",
      "0\n",
      "1\n",
      "2\n",
      "3\n",
      "4\n"
     ]
    }
   ],
   "source": [
    "#sometimes you'll need some code to execute multiple times in a row. Instead of writing the same lines over and over again,\n",
    "#you can utilize loops to reiterate code any number of times or until a condition is met\n",
    "\n",
    "# 'for loops' are static loops, meaning they will loops through code a specific amount of time which cannot be changed\n",
    "\n",
    "for i in range(0,5):\n",
    "    print(i) #you create a temporary variable, i,  that stores the number of the loop\n",
    "    \n",
    "#the code will loop 4 times, from 1 to 5, not including 5\n",
    "\n",
    "print() #separation\n",
    "\n",
    "# 'while loops' are conditional loops, meaning it will continue to loop through code until a condition is false\n",
    "\n",
    "number = 0\n",
    "while(number<5):\n",
    "    print(number)\n",
    "    number = number + 1\n",
    "    "
   ]
  },
  {
   "cell_type": "markdown",
   "metadata": {},
   "source": [
    "# Efficient Coding: Defining Functions"
   ]
  },
  {
   "cell_type": "code",
   "execution_count": 127,
   "metadata": {},
   "outputs": [
    {
     "name": "stdout",
     "output_type": "stream",
     "text": [
      "3\n",
      "3\n",
      "\n",
      "udeepSay isyay hetay estbay \n"
     ]
    }
   ],
   "source": [
    "#Sometimes we need to repeat a block of code, but at different times. Because of this, a loop won't work. So how can we use\n",
    "#code that has already be written in different areas of our program? Functions!\n",
    "\n",
    "#Functions are a way of naming a block of code, much like you would name a variable, so that you can call it at any time.\n",
    "#the typically take in some input data within its parameters, and return an output\n",
    "\n",
    "#here we have a function that takes two numbers in its parameters, adds them together into a new variable, and returns it\n",
    "def my_function(num1,num2):\n",
    "    sum_num = num1 + num2\n",
    "    return sum_num\n",
    "\n",
    "#now lets see this being used\n",
    "\n",
    "print(my_function(1,2))\n",
    "\n",
    "x = my_function(1,2)\n",
    "print(x)\n",
    "\n",
    "\n",
    "print() #separation\n",
    "\n",
    "\n",
    "#another example\n",
    "\n",
    "def pig_latin(sentence):\n",
    "    vowels = ['a', 'e','i','o','u','y','A','E','I','O','U','Y']\n",
    "    output = ''\n",
    "    \n",
    "    words = sentence.split(' ')\n",
    "        # ['Sudeep', 'is', 'the', 'best']\n",
    "    \n",
    "    for word in words:\n",
    "        if word[0] in vowels:\n",
    "            output+= word + 'yay '\n",
    "        else:\n",
    "            output+= word[1:] + word[0] + 'ay '\n",
    "    \n",
    "    return output\n",
    "\n",
    "print(pig_latin('Sudeep is the best'))\n"
   ]
  }
 ],
 "metadata": {
  "kernelspec": {
   "display_name": "Python 3",
   "language": "python",
   "name": "python3"
  },
  "language_info": {
   "codemirror_mode": {
    "name": "ipython",
    "version": 3
   },
   "file_extension": ".py",
   "mimetype": "text/x-python",
   "name": "python",
   "nbconvert_exporter": "python",
   "pygments_lexer": "ipython3",
   "version": "3.6.2"
  }
 },
 "nbformat": 4,
 "nbformat_minor": 2
}
